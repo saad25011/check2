{
 "cells": [
  {
   "cell_type": "markdown",
   "metadata": {},
   "source": [
    "# Develop a machine learning model to predict customer attrition"
   ]
  },
  {
   "cell_type": "markdown",
   "metadata": {},
   "source": [
    "### In this project,we develop a machine learning model to predict customer will leave or not "
   ]
  },
  {
   "cell_type": "markdown",
   "metadata": {},
   "source": [
    "Following Factors are:\n",
    "1. ClientID: Unique identifier for each customer.\n",
    "2. Gender: Customer's gender.\n",
    "3. IsSenior: Indicates if the customer is a senior citizen (over the age of 65).\n",
    "4. HasPartner: Whether the customer has a partner.\n",
    "5. HasDependents: Whether the customer has dependents.\n",
    "6. ServiceDuration: Number of months the customer has been with the company\n",
    "7. HasPhoneService: If the customer has subscribed for a phone service.\n",
    "8. HasMultiplePhoneServices: If the customer has subscribed for multiple phone services.\n",
    "9. InternetServiceType: Type of internet service the customer has subscribed for.\n",
    "10. HasCloudSecurity: If the customer has subscribed for cloud security\n",
    "11. HasCloudBackup: If the customer has subscribed for cloud backup.\n",
    "12. HasDeviceCoverage: If the customer has subscribed for device coverage.\n",
    "13. HasTechSupport: If the customer has subscribed for tech support.\n",
    "14. HasStreamingTV: If the customer has subscribed for streaming TV.\n",
    "15. HasStreamingMovies: If the customer has subscribed for streaming movies.\n",
    "16. SubscriptionType: Type of customer subscription.\n",
    "17. HasElectronicBilling: If the customer has electronic billing.\n",
    "18. PaymentMethod: Method of payment."
   ]
  },
  {
   "cell_type": "code",
   "execution_count": 2,
   "metadata": {},
   "outputs": [
    {
     "data": {
      "text/html": [
       "<img src=\"https://miro.medium.com/max/844/1*MyKDLRda6yHGR_8kgVvckg.png\"/>"
      ],
      "text/plain": [
       "<IPython.core.display.Image object>"
      ]
     },
     "execution_count": 2,
     "metadata": {},
     "output_type": "execute_result"
    }
   ],
   "source": [
    "from IPython.display import Image\n",
    "Image(url='https://miro.medium.com/max/844/1*MyKDLRda6yHGR_8kgVvckg.png')"
   ]
  },
  {
   "cell_type": "code",
   "execution_count": 820,
   "metadata": {},
   "outputs": [],
   "source": [
    "# Importing the essential Libraries\n",
    "import pandas as pd\n",
    "import numpy as np"
   ]
  },
  {
   "cell_type": "code",
   "execution_count": 824,
   "metadata": {},
   "outputs": [
    {
     "data": {
      "text/plain": [
       "(7043, 20)"
      ]
     },
     "execution_count": 824,
     "metadata": {},
     "output_type": "execute_result"
    }
   ],
   "source": [
    "# Reading the Dataset\n",
    "df = pd.read_csv('D:\\d\\check\\Customer_Churn-Deployment-master\\Customer-Attrition.csv', index_col=0)\n",
    "df.shape"
   ]
  },
  {
   "cell_type": "code",
   "execution_count": 825,
   "metadata": {},
   "outputs": [
    {
     "data": {
      "text/plain": [
       "(7043, 21)"
      ]
     },
     "execution_count": 825,
     "metadata": {},
     "output_type": "execute_result"
    }
   ],
   "source": [
    "df.reset_index(inplace=True)\n",
    "df.shape"
   ]
  },
  {
   "cell_type": "code",
   "execution_count": 826,
   "metadata": {},
   "outputs": [
    {
     "name": "stdout",
     "output_type": "stream",
     "text": [
      "0         29.85\n",
      "1        1889.5\n",
      "2        108.15\n",
      "3       1840.75\n",
      "4        151.65\n",
      "         ...   \n",
      "7038     1990.5\n",
      "7039     7362.9\n",
      "7040     346.45\n",
      "7041      306.6\n",
      "7042     6844.5\n",
      "Name: TotalSubscriptionCost, Length: 7043, dtype: object\n"
     ]
    }
   ],
   "source": [
    "a = [488, 753, 936,1082,1340,3331,3826,4380,5218,6670,6754]\n",
    "for i in range(len(a)):\n",
    "    index_1 = a[i]\n",
    "    new_value = '0'  # Replace with the value you want to add\n",
    "    # Add the new value at the specified index in the column\n",
    "    df.at[index_1, 'TotalSubscriptionCost'] = new_value\n",
    "\n",
    "print(df['TotalSubscriptionCost'])"
   ]
  },
  {
   "cell_type": "code",
   "execution_count": 827,
   "metadata": {},
   "outputs": [],
   "source": [
    "x = df['TotalSubscriptionCost']\n",
    "T = []\n",
    "for i in range(len(x)):\n",
    "    f = float(x[i])\n",
    "    r = round(f)\n",
    "    T.append(r)\n",
    "\n",
    "Total = pd.Series(T)\n",
    "df['Total_Subscription_Cost'] = Total\n"
   ]
  },
  {
   "cell_type": "code",
   "execution_count": 828,
   "metadata": {},
   "outputs": [
    {
     "data": {
      "text/plain": [
       "(7043, 22)"
      ]
     },
     "execution_count": 828,
     "metadata": {},
     "output_type": "execute_result"
    }
   ],
   "source": [
    "df.shape"
   ]
  },
  {
   "cell_type": "code",
   "execution_count": 829,
   "metadata": {},
   "outputs": [
    {
     "data": {
      "text/plain": [
       "Index(['ClientID', 'Gender', 'IsSenior', 'HasPartner', 'HasDependents',\n",
       "       'ServiceDuration', 'HasPhoneService', 'HasMultiplePhoneServices',\n",
       "       'InternetServiceType', 'HasCloudSecurity', 'HasCloudBackup',\n",
       "       'HasDeviceCoverage', 'HasTechSupport', 'HasStreamingTV',\n",
       "       'HasStreamingMovies', 'SubscriptionType', 'HasElectronicBilling',\n",
       "       'PaymentMethod', 'MonthlySubscriptionFee', 'TotalSubscriptionCost',\n",
       "       'HasAttrited', 'Total_Subscription_Cost'],\n",
       "      dtype='object')"
      ]
     },
     "execution_count": 829,
     "metadata": {},
     "output_type": "execute_result"
    }
   ],
   "source": [
    "df.columns"
   ]
  },
  {
   "cell_type": "code",
   "execution_count": 830,
   "metadata": {},
   "outputs": [
    {
     "data": {
      "text/plain": [
       "ClientID                     object\n",
       "Gender                       object\n",
       "IsSenior                      int64\n",
       "HasPartner                   object\n",
       "HasDependents                object\n",
       "ServiceDuration               int64\n",
       "HasPhoneService              object\n",
       "HasMultiplePhoneServices     object\n",
       "InternetServiceType          object\n",
       "HasCloudSecurity             object\n",
       "HasCloudBackup               object\n",
       "HasDeviceCoverage            object\n",
       "HasTechSupport               object\n",
       "HasStreamingTV               object\n",
       "HasStreamingMovies           object\n",
       "SubscriptionType             object\n",
       "HasElectronicBilling         object\n",
       "PaymentMethod                object\n",
       "MonthlySubscriptionFee      float64\n",
       "TotalSubscriptionCost        object\n",
       "HasAttrited                  object\n",
       "Total_Subscription_Cost       int64\n",
       "dtype: object"
      ]
     },
     "execution_count": 830,
     "metadata": {},
     "output_type": "execute_result"
    }
   ],
   "source": [
    "df.dtypes"
   ]
  },
  {
   "cell_type": "code",
   "execution_count": 831,
   "metadata": {},
   "outputs": [
    {
     "name": "stdout",
     "output_type": "stream",
     "text": [
      "[29.85 56.95 53.85 ... 63.1  44.2  78.7 ]\n",
      "['Female' 'Male']\n",
      "['29.85' '1889.5' '108.15' ... '346.45' '306.6' '6844.5']\n",
      "['No' 'Yes']\n",
      "['Electronic check' 'Mailed check' 'Bank transfer (automatic)'\n",
      " 'Credit card (automatic)']\n"
     ]
    },
    {
     "data": {
      "text/plain": [
       "array([  30, 1890,  108, ..., 1990, 7363, 6844], dtype=int64)"
      ]
     },
     "execution_count": 831,
     "metadata": {},
     "output_type": "execute_result"
    }
   ],
   "source": [
    "# Printing Unique Values of the categorical variables\n",
    "print(df['MonthlySubscriptionFee'].unique())\n",
    "print(df['Gender'].unique())\n",
    "print(df['TotalSubscriptionCost'].unique())\n",
    "print(df['HasAttrited'].unique())\n",
    "print(df['PaymentMethod'].unique())\n",
    "df['Total_Subscription_Cost'].unique()"
   ]
  },
  {
   "cell_type": "code",
   "execution_count": 832,
   "metadata": {},
   "outputs": [
    {
     "data": {
      "text/plain": [
       "ClientID                    0\n",
       "Gender                      0\n",
       "IsSenior                    0\n",
       "HasPartner                  0\n",
       "HasDependents               0\n",
       "ServiceDuration             0\n",
       "HasPhoneService             0\n",
       "HasMultiplePhoneServices    0\n",
       "InternetServiceType         0\n",
       "HasCloudSecurity            0\n",
       "HasCloudBackup              0\n",
       "HasDeviceCoverage           0\n",
       "HasTechSupport              0\n",
       "HasStreamingTV              0\n",
       "HasStreamingMovies          0\n",
       "SubscriptionType            0\n",
       "HasElectronicBilling        0\n",
       "PaymentMethod               0\n",
       "MonthlySubscriptionFee      0\n",
       "TotalSubscriptionCost       0\n",
       "HasAttrited                 0\n",
       "Total_Subscription_Cost     0\n",
       "dtype: int64"
      ]
     },
     "execution_count": 832,
     "metadata": {},
     "output_type": "execute_result"
    }
   ],
   "source": [
    "# Checking if there are null values or not\n",
    "df.isnull().sum()"
   ]
  },
  {
   "cell_type": "code",
   "execution_count": 833,
   "metadata": {},
   "outputs": [
    {
     "data": {
      "text/html": [
       "<div>\n",
       "<style scoped>\n",
       "    .dataframe tbody tr th:only-of-type {\n",
       "        vertical-align: middle;\n",
       "    }\n",
       "\n",
       "    .dataframe tbody tr th {\n",
       "        vertical-align: top;\n",
       "    }\n",
       "\n",
       "    .dataframe thead th {\n",
       "        text-align: right;\n",
       "    }\n",
       "</style>\n",
       "<table border=\"1\" class=\"dataframe\">\n",
       "  <thead>\n",
       "    <tr style=\"text-align: right;\">\n",
       "      <th></th>\n",
       "      <th>IsSenior</th>\n",
       "      <th>ServiceDuration</th>\n",
       "      <th>MonthlySubscriptionFee</th>\n",
       "      <th>Total_Subscription_Cost</th>\n",
       "    </tr>\n",
       "  </thead>\n",
       "  <tbody>\n",
       "    <tr>\n",
       "      <th>count</th>\n",
       "      <td>7043.000000</td>\n",
       "      <td>7043.000000</td>\n",
       "      <td>7043.000000</td>\n",
       "      <td>7043.000000</td>\n",
       "    </tr>\n",
       "    <tr>\n",
       "      <th>mean</th>\n",
       "      <td>0.162147</td>\n",
       "      <td>32.371149</td>\n",
       "      <td>64.761692</td>\n",
       "      <td>2279.728525</td>\n",
       "    </tr>\n",
       "    <tr>\n",
       "      <th>std</th>\n",
       "      <td>0.368612</td>\n",
       "      <td>24.559481</td>\n",
       "      <td>30.090047</td>\n",
       "      <td>2266.792771</td>\n",
       "    </tr>\n",
       "    <tr>\n",
       "      <th>min</th>\n",
       "      <td>0.000000</td>\n",
       "      <td>0.000000</td>\n",
       "      <td>18.250000</td>\n",
       "      <td>0.000000</td>\n",
       "    </tr>\n",
       "    <tr>\n",
       "      <th>25%</th>\n",
       "      <td>0.000000</td>\n",
       "      <td>9.000000</td>\n",
       "      <td>35.500000</td>\n",
       "      <td>399.000000</td>\n",
       "    </tr>\n",
       "    <tr>\n",
       "      <th>50%</th>\n",
       "      <td>0.000000</td>\n",
       "      <td>29.000000</td>\n",
       "      <td>70.350000</td>\n",
       "      <td>1395.000000</td>\n",
       "    </tr>\n",
       "    <tr>\n",
       "      <th>75%</th>\n",
       "      <td>0.000000</td>\n",
       "      <td>55.000000</td>\n",
       "      <td>89.850000</td>\n",
       "      <td>3786.500000</td>\n",
       "    </tr>\n",
       "    <tr>\n",
       "      <th>max</th>\n",
       "      <td>1.000000</td>\n",
       "      <td>72.000000</td>\n",
       "      <td>118.750000</td>\n",
       "      <td>8685.000000</td>\n",
       "    </tr>\n",
       "  </tbody>\n",
       "</table>\n",
       "</div>"
      ],
      "text/plain": [
       "          IsSenior  ServiceDuration  MonthlySubscriptionFee  \\\n",
       "count  7043.000000      7043.000000             7043.000000   \n",
       "mean      0.162147        32.371149               64.761692   \n",
       "std       0.368612        24.559481               30.090047   \n",
       "min       0.000000         0.000000               18.250000   \n",
       "25%       0.000000         9.000000               35.500000   \n",
       "50%       0.000000        29.000000               70.350000   \n",
       "75%       0.000000        55.000000               89.850000   \n",
       "max       1.000000        72.000000              118.750000   \n",
       "\n",
       "       Total_Subscription_Cost  \n",
       "count              7043.000000  \n",
       "mean               2279.728525  \n",
       "std                2266.792771  \n",
       "min                   0.000000  \n",
       "25%                 399.000000  \n",
       "50%                1395.000000  \n",
       "75%                3786.500000  \n",
       "max                8685.000000  "
      ]
     },
     "execution_count": 833,
     "metadata": {},
     "output_type": "execute_result"
    }
   ],
   "source": [
    "df.describe()"
   ]
  },
  {
   "cell_type": "code",
   "execution_count": 834,
   "metadata": {},
   "outputs": [
    {
     "data": {
      "text/html": [
       "<div>\n",
       "<style scoped>\n",
       "    .dataframe tbody tr th:only-of-type {\n",
       "        vertical-align: middle;\n",
       "    }\n",
       "\n",
       "    .dataframe tbody tr th {\n",
       "        vertical-align: top;\n",
       "    }\n",
       "\n",
       "    .dataframe thead th {\n",
       "        text-align: right;\n",
       "    }\n",
       "</style>\n",
       "<table border=\"1\" class=\"dataframe\">\n",
       "  <thead>\n",
       "    <tr style=\"text-align: right;\">\n",
       "      <th></th>\n",
       "      <th>ClientID</th>\n",
       "      <th>Gender</th>\n",
       "      <th>IsSenior</th>\n",
       "      <th>HasPartner</th>\n",
       "      <th>HasDependents</th>\n",
       "      <th>ServiceDuration</th>\n",
       "      <th>HasPhoneService</th>\n",
       "      <th>HasMultiplePhoneServices</th>\n",
       "      <th>InternetServiceType</th>\n",
       "      <th>HasCloudSecurity</th>\n",
       "      <th>...</th>\n",
       "      <th>HasTechSupport</th>\n",
       "      <th>HasStreamingTV</th>\n",
       "      <th>HasStreamingMovies</th>\n",
       "      <th>SubscriptionType</th>\n",
       "      <th>HasElectronicBilling</th>\n",
       "      <th>PaymentMethod</th>\n",
       "      <th>MonthlySubscriptionFee</th>\n",
       "      <th>TotalSubscriptionCost</th>\n",
       "      <th>HasAttrited</th>\n",
       "      <th>Total_Subscription_Cost</th>\n",
       "    </tr>\n",
       "  </thead>\n",
       "  <tbody>\n",
       "    <tr>\n",
       "      <th>0</th>\n",
       "      <td>7590-VHVEG</td>\n",
       "      <td>Female</td>\n",
       "      <td>0</td>\n",
       "      <td>Yes</td>\n",
       "      <td>No</td>\n",
       "      <td>1</td>\n",
       "      <td>No</td>\n",
       "      <td>No phone service</td>\n",
       "      <td>DSL</td>\n",
       "      <td>No</td>\n",
       "      <td>...</td>\n",
       "      <td>No</td>\n",
       "      <td>No</td>\n",
       "      <td>No</td>\n",
       "      <td>Month-to-month</td>\n",
       "      <td>Yes</td>\n",
       "      <td>Electronic check</td>\n",
       "      <td>29.85</td>\n",
       "      <td>29.85</td>\n",
       "      <td>No</td>\n",
       "      <td>30</td>\n",
       "    </tr>\n",
       "  </tbody>\n",
       "</table>\n",
       "<p>1 rows × 22 columns</p>\n",
       "</div>"
      ],
      "text/plain": [
       "     ClientID  Gender  IsSenior HasPartner HasDependents  ServiceDuration  \\\n",
       "0  7590-VHVEG  Female         0        Yes            No                1   \n",
       "\n",
       "  HasPhoneService HasMultiplePhoneServices InternetServiceType  \\\n",
       "0              No         No phone service                 DSL   \n",
       "\n",
       "  HasCloudSecurity  ... HasTechSupport HasStreamingTV HasStreamingMovies  \\\n",
       "0               No  ...             No             No                 No   \n",
       "\n",
       "  SubscriptionType HasElectronicBilling     PaymentMethod  \\\n",
       "0   Month-to-month                  Yes  Electronic check   \n",
       "\n",
       "  MonthlySubscriptionFee TotalSubscriptionCost  HasAttrited  \\\n",
       "0                  29.85                 29.85           No   \n",
       "\n",
       "  Total_Subscription_Cost  \n",
       "0                      30  \n",
       "\n",
       "[1 rows x 22 columns]"
      ]
     },
     "execution_count": 834,
     "metadata": {},
     "output_type": "execute_result"
    }
   ],
   "source": [
    "df.head(1)"
   ]
  },
  {
   "cell_type": "code",
   "execution_count": 1014,
   "metadata": {},
   "outputs": [],
   "source": [
    "# Including only Potential Predictors as independent varibles\n",
    "# final_dataset = df[['CreditScore', 'Geography', 'Gender', 'Age', 'Tenure', 'Balance', 'NumOfProducts', 'HasCrCard', 'IsActiveMember', 'EstimatedSalary', 'Exited']]\n",
    "final_dataset = df[[\n",
    "    'Gender',\n",
    "    'HasPartner',  \n",
    "     'SubscriptionType', \n",
    "     'Total_Subscription_Cost',\n",
    "    'HasPhoneService',\n",
    "      'PaymentMethod',\n",
    "        'HasCloudSecurity',\n",
    "      'HasStreamingMovies',\n",
    "        'HasStreamingTV',    \n",
    "    'HasElectronicBilling',\n",
    "    'ServiceDuration', \n",
    "    'HasAttrited',\n",
    "      \n",
    "]]\n"
   ]
  },
  {
   "cell_type": "code",
   "execution_count": 1015,
   "metadata": {},
   "outputs": [
    {
     "data": {
      "text/plain": [
       "Gender                     int64\n",
       "HasPartner                 int64\n",
       "SubscriptionType           int64\n",
       "Total_Subscription_Cost    int64\n",
       "HasPhoneService            int64\n",
       "PaymentMethod              int64\n",
       "HasCloudSecurity           int64\n",
       "HasStreamingMovies         int64\n",
       "HasStreamingTV             int64\n",
       "HasElectronicBilling       int64\n",
       "ServiceDuration            int64\n",
       "HasAttrited                int64\n",
       "dtype: object"
      ]
     },
     "execution_count": 1015,
     "metadata": {},
     "output_type": "execute_result"
    }
   ],
   "source": [
    "final_dataset.dtypes"
   ]
  },
  {
   "cell_type": "code",
   "execution_count": 1016,
   "metadata": {},
   "outputs": [
    {
     "data": {
      "text/plain": [
       "0         30\n",
       "1       1890\n",
       "2        108\n",
       "3       1841\n",
       "4        152\n",
       "        ... \n",
       "7038    1990\n",
       "7039    7363\n",
       "7040     346\n",
       "7041     307\n",
       "7042    6844\n",
       "Name: Total_Subscription_Cost, Length: 7043, dtype: int64"
      ]
     },
     "execution_count": 1016,
     "metadata": {},
     "output_type": "execute_result"
    }
   ],
   "source": [
    "final_dataset['Total_Subscription_Cost']"
   ]
  },
  {
   "cell_type": "code",
   "execution_count": 1017,
   "metadata": {},
   "outputs": [],
   "source": [
    "# Converting the categorical variables into numerical and avoiding Dummy Varibale Trap\n",
    "# final_dataset = pd.get_dummies(final_dataset)\n",
    "\n",
    "final_dataset['Gender'] = df['Gender'].replace({'Male': 0, 'Female': 1})\n",
    "final_dataset['HasAttrited'] = df['HasAttrited'].replace({'Yes': 1, 'No': 0})\n",
    "final_dataset['HasPartner'] = df['HasPartner'].replace({'Yes': 1, 'No': 0})\n",
    "final_dataset['Total_Subscription_Cost'] = df['Total_Subscription_Cost']\n",
    "final_dataset['HasElectronicBilling'] = df['HasElectronicBilling'].replace({'Yes': 1, 'No': 0})\n",
    "final_dataset['HasPhoneService'] = df['HasPhoneService'].replace({'Yes': 1, 'No': 0})\n",
    "final_dataset['HasCloudSecurity'] = df['HasCloudSecurity'].replace({'Yes': 1, 'No': 0 , 'No internet service':0})\n",
    "final_dataset['HasStreamingTV'] = df['HasStreamingTV'].replace({'Yes': 1, 'No': 0 , 'No internet service':0})\n",
    "final_dataset['HasStreamingMovies'] = df['HasStreamingMovies'].replace({'Yes': 1, 'No': 0, 'No internet service':0})\n",
    "final_dataset['SubscriptionType'] = df['SubscriptionType'].replace({'Month-to-month': 0, 'One year': 1, 'Two year':3})\n",
    "['Electronic check' 'Mailed check' 'Bank transfer (automatic)'\n",
    " 'Credit card (automatic)']\n",
    "final_dataset['PaymentMethod'] = df['PaymentMethod'].replace({'Electronic check': 0, 'Mailed check': 0, 'Bank transfer (automatic)':1,'Credit card (automatic)':1})"
   ]
  },
  {
   "cell_type": "code",
   "execution_count": 1018,
   "metadata": {},
   "outputs": [
    {
     "data": {
      "text/html": [
       "<div>\n",
       "<style scoped>\n",
       "    .dataframe tbody tr th:only-of-type {\n",
       "        vertical-align: middle;\n",
       "    }\n",
       "\n",
       "    .dataframe tbody tr th {\n",
       "        vertical-align: top;\n",
       "    }\n",
       "\n",
       "    .dataframe thead th {\n",
       "        text-align: right;\n",
       "    }\n",
       "</style>\n",
       "<table border=\"1\" class=\"dataframe\">\n",
       "  <thead>\n",
       "    <tr style=\"text-align: right;\">\n",
       "      <th></th>\n",
       "      <th>Gender</th>\n",
       "      <th>HasPartner</th>\n",
       "      <th>SubscriptionType</th>\n",
       "      <th>Total_Subscription_Cost</th>\n",
       "      <th>HasPhoneService</th>\n",
       "      <th>PaymentMethod</th>\n",
       "      <th>HasCloudSecurity</th>\n",
       "      <th>HasStreamingMovies</th>\n",
       "      <th>HasStreamingTV</th>\n",
       "      <th>HasElectronicBilling</th>\n",
       "      <th>ServiceDuration</th>\n",
       "      <th>HasAttrited</th>\n",
       "    </tr>\n",
       "  </thead>\n",
       "  <tbody>\n",
       "    <tr>\n",
       "      <th>0</th>\n",
       "      <td>1</td>\n",
       "      <td>1</td>\n",
       "      <td>0</td>\n",
       "      <td>30</td>\n",
       "      <td>0</td>\n",
       "      <td>0</td>\n",
       "      <td>0</td>\n",
       "      <td>0</td>\n",
       "      <td>0</td>\n",
       "      <td>1</td>\n",
       "      <td>1</td>\n",
       "      <td>0</td>\n",
       "    </tr>\n",
       "    <tr>\n",
       "      <th>1</th>\n",
       "      <td>0</td>\n",
       "      <td>0</td>\n",
       "      <td>1</td>\n",
       "      <td>1890</td>\n",
       "      <td>1</td>\n",
       "      <td>0</td>\n",
       "      <td>1</td>\n",
       "      <td>0</td>\n",
       "      <td>0</td>\n",
       "      <td>0</td>\n",
       "      <td>34</td>\n",
       "      <td>0</td>\n",
       "    </tr>\n",
       "    <tr>\n",
       "      <th>2</th>\n",
       "      <td>0</td>\n",
       "      <td>0</td>\n",
       "      <td>0</td>\n",
       "      <td>108</td>\n",
       "      <td>1</td>\n",
       "      <td>0</td>\n",
       "      <td>1</td>\n",
       "      <td>0</td>\n",
       "      <td>0</td>\n",
       "      <td>1</td>\n",
       "      <td>2</td>\n",
       "      <td>1</td>\n",
       "    </tr>\n",
       "    <tr>\n",
       "      <th>3</th>\n",
       "      <td>0</td>\n",
       "      <td>0</td>\n",
       "      <td>1</td>\n",
       "      <td>1841</td>\n",
       "      <td>0</td>\n",
       "      <td>1</td>\n",
       "      <td>1</td>\n",
       "      <td>0</td>\n",
       "      <td>0</td>\n",
       "      <td>0</td>\n",
       "      <td>45</td>\n",
       "      <td>0</td>\n",
       "    </tr>\n",
       "    <tr>\n",
       "      <th>4</th>\n",
       "      <td>1</td>\n",
       "      <td>0</td>\n",
       "      <td>0</td>\n",
       "      <td>152</td>\n",
       "      <td>1</td>\n",
       "      <td>0</td>\n",
       "      <td>0</td>\n",
       "      <td>0</td>\n",
       "      <td>0</td>\n",
       "      <td>1</td>\n",
       "      <td>2</td>\n",
       "      <td>1</td>\n",
       "    </tr>\n",
       "  </tbody>\n",
       "</table>\n",
       "</div>"
      ],
      "text/plain": [
       "   Gender  HasPartner  SubscriptionType  Total_Subscription_Cost  \\\n",
       "0       1           1                 0                       30   \n",
       "1       0           0                 1                     1890   \n",
       "2       0           0                 0                      108   \n",
       "3       0           0                 1                     1841   \n",
       "4       1           0                 0                      152   \n",
       "\n",
       "   HasPhoneService  PaymentMethod  HasCloudSecurity  HasStreamingMovies  \\\n",
       "0                0              0                 0                   0   \n",
       "1                1              0                 1                   0   \n",
       "2                1              0                 1                   0   \n",
       "3                0              1                 1                   0   \n",
       "4                1              0                 0                   0   \n",
       "\n",
       "   HasStreamingTV  HasElectronicBilling  ServiceDuration  HasAttrited  \n",
       "0               0                     1                1            0  \n",
       "1               0                     0               34            0  \n",
       "2               0                     1                2            1  \n",
       "3               0                     0               45            0  \n",
       "4               0                     1                2            1  "
      ]
     },
     "execution_count": 1018,
     "metadata": {},
     "output_type": "execute_result"
    }
   ],
   "source": [
    "\n",
    "final_dataset.head()"
   ]
  },
  {
   "cell_type": "code",
   "execution_count": 1019,
   "metadata": {
    "scrolled": true
   },
   "outputs": [],
   "source": [
    "# # Splitting the Dataset into Dependent and Independent Variables\n",
    "\n",
    "X = final_dataset.iloc[:, [0,1,2,3,4,5,6,7,8,9,10]]\n",
    "y = final_dataset.iloc[:, 11].values"
   ]
  },
  {
   "cell_type": "code",
   "execution_count": 1020,
   "metadata": {},
   "outputs": [
    {
     "data": {
      "text/plain": [
       "Gender                     int64\n",
       "HasPartner                 int64\n",
       "SubscriptionType           int64\n",
       "Total_Subscription_Cost    int64\n",
       "HasPhoneService            int64\n",
       "PaymentMethod              int64\n",
       "HasCloudSecurity           int64\n",
       "HasStreamingMovies         int64\n",
       "HasStreamingTV             int64\n",
       "HasElectronicBilling       int64\n",
       "ServiceDuration            int64\n",
       "dtype: object"
      ]
     },
     "execution_count": 1020,
     "metadata": {},
     "output_type": "execute_result"
    }
   ],
   "source": [
    "X.dtypes"
   ]
  },
  {
   "cell_type": "code",
   "execution_count": 1021,
   "metadata": {},
   "outputs": [
    {
     "data": {
      "text/plain": [
       "array([0, 0, 1, ..., 0, 1, 0], dtype=int64)"
      ]
     },
     "execution_count": 1021,
     "metadata": {},
     "output_type": "execute_result"
    }
   ],
   "source": [
    "y"
   ]
  },
  {
   "cell_type": "code",
   "execution_count": 1022,
   "metadata": {},
   "outputs": [],
   "source": [
    "# Splitting the dataset into Training and Testing Data\n",
    "from sklearn.model_selection import train_test_split\n",
    "X_train, X_test, y_train, y_test = train_test_split(X,y,test_size=0.2, random_state = 23)\n"
   ]
  },
  {
   "cell_type": "markdown",
   "metadata": {},
   "source": [
    "# lOGISTIC REGRESSION"
   ]
  },
  {
   "cell_type": "code",
   "execution_count": 1023,
   "metadata": {},
   "outputs": [
    {
     "name": "stdout",
     "output_type": "stream",
     "text": [
      "      Gender  HasPartner  SubscriptionType  Total_Subscription_Cost  \\\n",
      "4117       0           1                 3                     6330   \n",
      "1302       1           1                 3                     3534   \n",
      "6201       1           0                 0                      375   \n",
      "3784       0           0                 0                     3496   \n",
      "2739       1           1                 1                     6384   \n",
      "...      ...         ...               ...                      ...   \n",
      "1837       0           0                 0                       20   \n",
      "3588       0           1                 0                      654   \n",
      "2612       1           1                 0                     1137   \n",
      "3755       0           0                 0                      319   \n",
      "2880       0           0                 0                     1043   \n",
      "\n",
      "      HasPhoneService  PaymentMethod  HasCloudSecurity  HasStreamingMovies  \\\n",
      "4117                1              1                 1                   1   \n",
      "1302                1              0                 1                   1   \n",
      "6201                1              0                 1                   0   \n",
      "3784                1              0                 0                   1   \n",
      "2739                1              1                 0                   1   \n",
      "...               ...            ...               ...                 ...   \n",
      "1837                1              1                 0                   0   \n",
      "3588                1              1                 0                   1   \n",
      "2612                1              1                 0                   1   \n",
      "3755                1              0                 0                   0   \n",
      "2880                1              1                 0                   1   \n",
      "\n",
      "      HasStreamingTV  HasElectronicBilling  ServiceDuration  \n",
      "4117               1                     0               63  \n",
      "1302               1                     1               45  \n",
      "6201               0                     0                5  \n",
      "3784               1                     1               35  \n",
      "2739               1                     0               61  \n",
      "...              ...                   ...              ...  \n",
      "1837               0                     0                1  \n",
      "3588               0                     1                9  \n",
      "2612               1                     0               14  \n",
      "3755               0                     1                4  \n",
      "2880               0                     1               12  \n",
      "\n",
      "[1409 rows x 11 columns]\n"
     ]
    }
   ],
   "source": [
    "from sklearn.linear_model import LogisticRegression\n",
    "model = LogisticRegression()\n",
    "model.fit(X_train,y_train)\n",
    "print(X_test)"
   ]
  },
  {
   "cell_type": "code",
   "execution_count": 1024,
   "metadata": {},
   "outputs": [
    {
     "name": "stdout",
     "output_type": "stream",
     "text": [
      "      Gender  HasPartner  SubscriptionType  Total_Subscription_Cost  \\\n",
      "4117       0           1                 3                     6330   \n",
      "1302       1           1                 3                     3534   \n",
      "6201       1           0                 0                      375   \n",
      "3784       0           0                 0                     3496   \n",
      "2739       1           1                 1                     6384   \n",
      "...      ...         ...               ...                      ...   \n",
      "1837       0           0                 0                       20   \n",
      "3588       0           1                 0                      654   \n",
      "2612       1           1                 0                     1137   \n",
      "3755       0           0                 0                      319   \n",
      "2880       0           0                 0                     1043   \n",
      "\n",
      "      HasPhoneService  PaymentMethod  HasCloudSecurity  HasStreamingMovies  \\\n",
      "4117                1              1                 1                   1   \n",
      "1302                1              0                 1                   1   \n",
      "6201                1              0                 1                   0   \n",
      "3784                1              0                 0                   1   \n",
      "2739                1              1                 0                   1   \n",
      "...               ...            ...               ...                 ...   \n",
      "1837                1              1                 0                   0   \n",
      "3588                1              1                 0                   1   \n",
      "2612                1              1                 0                   1   \n",
      "3755                1              0                 0                   0   \n",
      "2880                1              1                 0                   1   \n",
      "\n",
      "      HasStreamingTV  HasElectronicBilling  ServiceDuration  \n",
      "4117               1                     0               63  \n",
      "1302               1                     1               45  \n",
      "6201               0                     0                5  \n",
      "3784               1                     1               35  \n",
      "2739               1                     0               61  \n",
      "...              ...                   ...              ...  \n",
      "1837               0                     0                1  \n",
      "3588               0                     1                9  \n",
      "2612               1                     0               14  \n",
      "3755               0                     1                4  \n",
      "2880               0                     1               12  \n",
      "\n",
      "[1409 rows x 11 columns]\n"
     ]
    }
   ],
   "source": [
    "y_pred = model.predict(X_test)\n",
    "print(X_test)"
   ]
  },
  {
   "cell_type": "code",
   "execution_count": 1025,
   "metadata": {},
   "outputs": [
    {
     "name": "stdout",
     "output_type": "stream",
     "text": [
      "[[930 110]\n",
      " [203 166]]\n",
      "0.7778566359119943\n"
     ]
    }
   ],
   "source": [
    "from sklearn.metrics import accuracy_score, confusion_matrix\n",
    "cm = confusion_matrix(y_test,y_pred)\n",
    "print(cm)\n",
    "print(accuracy_score(y_test,y_pred))"
   ]
  },
  {
   "cell_type": "code",
   "execution_count": 1001,
   "metadata": {},
   "outputs": [
    {
     "name": "stdout",
     "output_type": "stream",
     "text": [
      "Accuracy: 0.49254790631653655\n"
     ]
    }
   ],
   "source": [
    "accuracy = model.score(X_test, y_test)\n",
    "print(\"Accuracy:\", accuracy)"
   ]
  },
  {
   "cell_type": "code",
   "execution_count": 1002,
   "metadata": {},
   "outputs": [
    {
     "data": {
      "image/png": "[encoded data removed]",
      "text/plain": [
       "<Figure size 640x480 with 1 Axes>"
      ]
     },
     "metadata": {},
     "output_type": "display_data"
    }
   ],
   "source": [
    "from sklearn.metrics import roc_curve, auc\n",
    "import matplotlib.pyplot as plt\n",
    "\n",
    "fpr, tpr, thresholds = roc_curve(y_test, model.predict_proba(X_test)[:, 1])\n",
    "roc_auc = auc(fpr, tpr)\n",
    "\n",
    "plt.figure()\n",
    "plt.plot(fpr, tpr, color='darkorange', lw=2, label='ROC curve (area = %0.2f)' % roc_auc)\n",
    "plt.plot([0, 1], [0, 1], color='navy', lw=2, linestyle='--')\n",
    "plt.xlabel('False Positive Rate')\n",
    "plt.ylabel('True Positive Rate')\n",
    "plt.title('Receiver Operating Characteristic (ROC) Curve')\n",
    "plt.legend(loc=\"lower right\")\n",
    "plt.show()"
   ]
  },
  {
   "cell_type": "code",
   "execution_count": 993,
   "metadata": {},
   "outputs": [
    {
     "data": {
      "image/png": "[encoded data removed]",
      "text/plain": [
       "<Figure size 800x600 with 1 Axes>"
      ]
     },
     "metadata": {},
     "output_type": "display_data"
    }
   ],
   "source": [
    "import numpy as np\n",
    "import matplotlib.pyplot as plt\n",
    "from sklearn.model_selection import learning_curve\n",
    "\n",
    "# Assuming logistic_model is your trained Logistic Regression model\n",
    "\n",
    "train_sizes, train_scores, test_scores = learning_curve(\n",
    "    model, X, y, cv=5, train_sizes=np.linspace(0.1, 1.0, 10)\n",
    ")\n",
    "\n",
    "train_mean = np.mean(train_scores, axis=1)\n",
    "train_std = np.std(train_scores, axis=1)\n",
    "test_mean = np.mean(test_scores, axis=1)\n",
    "test_std = np.std(test_scores, axis=1)\n",
    "\n",
    "plt.figure(figsize=(8, 6))\n",
    "plt.title(\"Learning Curve\")\n",
    "plt.xlabel(\"Training examples\")\n",
    "plt.ylabel(\"Score\")\n",
    "\n",
    "plt.fill_between(train_sizes, train_mean - train_std, train_mean + train_std, alpha=0.1, color=\"r\")\n",
    "plt.fill_between(train_sizes, test_mean - test_std, test_mean + test_std, alpha=0.1, color=\"g\")\n",
    "\n",
    "plt.plot(train_sizes, train_mean, 'o-', color=\"r\", label=\"Training score\")\n",
    "plt.plot(train_sizes, test_mean, 'o-', color=\"g\", label=\"Cross-validation score\")\n",
    "\n",
    "plt.legend(loc=\"best\")\n",
    "plt.show()\n"
   ]
  },
  {
   "cell_type": "code",
   "execution_count": 976,
   "metadata": {},
   "outputs": [],
   "source": [
    "# pickling the Model\n",
    "import pickle\n",
    "file = open('Customer_Churn_Prediction.pkl', 'wb')\n",
    "pickle.dump(model, file)"
   ]
  },
  {
   "cell_type": "code",
   "execution_count": 979,
   "metadata": {},
   "outputs": [
    {
     "data": {
      "text/plain": [
       "array([0, 0, 0, ..., 0, 1, 1], dtype=int64)"
      ]
     },
     "execution_count": 979,
     "metadata": {},
     "output_type": "execute_result"
    }
   ],
   "source": []
  },
  {
   "cell_type": "code",
   "execution_count": null,
   "metadata": {},
   "outputs": [],
   "source": []
  },
  {
   "cell_type": "code",
   "execution_count": null,
   "metadata": {},
   "outputs": [],
   "source": []
  }
 ],
 "metadata": {
  "kernelspec": {
   "display_name": "Python 3",
   "language": "python",
   "name": "python3"
  },
  "language_info": {
   "codemirror_mode": {
    "name": "ipython",
    "version": 3
   },
   "file_extension": ".py",
   "mimetype": "text/x-python",
   "name": "python",
   "nbconvert_exporter": "python",
   "pygments_lexer": "ipython3",
   "version": "3.9.12"
  }
 },
 "nbformat": 4,
 "nbformat_minor": 4
}
